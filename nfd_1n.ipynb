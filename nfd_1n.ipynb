{
 "cells": [
  {
   "cell_type": "markdown",
   "id": "49af7549-740b-40b1-a37e-cf3305d70e5a",
   "metadata": {
    "tags": []
   },
   "source": [
    "# NFD Playbook: One node\n",
    "\n",
    "Simply SSH into the node and use ndn-tool CMD commands.\n",
    "\n",
    "For example, chunks.\n",
    "\n",
    "On Terminal 1 (node 1):\n",
    "* dd if=/dev/zero of=file.txt bs=1GB count=2\n",
    "* ndnputchunks /general/data/4319 < file.txt\n",
    "\n",
    "On Terminal 2 (node 2):\n",
    "* ndncatchunks /general/data/4319 > output.txt"
   ]
  },
  {
   "cell_type": "markdown",
   "id": "e37bd49b-df8e-45fe-b146-de0280eb046c",
   "metadata": {
    "tags": []
   },
   "source": [
    "## Preliminaries"
   ]
  },
  {
   "cell_type": "markdown",
   "id": "d0261b1b-c60b-4a30-8b09-d5373d3b342b",
   "metadata": {
    "tags": []
   },
   "source": [
    "### Imports"
   ]
  },
  {
   "cell_type": "code",
   "execution_count": null,
   "id": "1fb71015-0d7a-4dff-9042-5ceaadc55817",
   "metadata": {},
   "outputs": [],
   "source": [
    "from fabrictestbed_extensions.fablib.fablib import fablib"
   ]
  },
  {
   "cell_type": "markdown",
   "id": "c52e48ce-d7e6-43b8-b4c9-965677b6a5c9",
   "metadata": {
    "tags": []
   },
   "source": [
    "### Parameters and Variables"
   ]
  },
  {
   "cell_type": "code",
   "execution_count": null,
   "id": "2abaf51c-ae7a-447d-b28f-6ed3dbffc438",
   "metadata": {},
   "outputs": [],
   "source": [
    "slice_name = 'NFD_1Node'\n",
    "sites = ['SALT']\n",
    "nodes_name = ['Node1']\n",
    "\n",
    "image = 'default_ubuntu_20'\n",
    "cores = 48\n",
    "ram = 128\n",
    "disk = 100\n",
    "\n",
    "go_version = '1.20.4'"
   ]
  },
  {
   "cell_type": "markdown",
   "id": "b0224dfa-25c2-4bba-a439-f2cf230b6816",
   "metadata": {
    "tags": []
   },
   "source": [
    "### List available resources by site"
   ]
  },
  {
   "cell_type": "code",
   "execution_count": null,
   "id": "c9c3dcf1-bb54-4371-b15e-f770e93b28d4",
   "metadata": {},
   "outputs": [],
   "source": [
    "try:\n",
    "    fablib.list_sites()\n",
    "except Exception as e:\n",
    "    print(f\"Exception: {e}\")"
   ]
  },
  {
   "cell_type": "markdown",
   "id": "700cf642-cb2c-4c94-b8d9-bfbe4e5d549e",
   "metadata": {
    "tags": []
   },
   "source": [
    "## Create slice\n",
    "\n",
    "### Submit slice"
   ]
  },
  {
   "cell_type": "code",
   "execution_count": null,
   "id": "7f1afbd9-eb27-4101-bda1-aa54c250047b",
   "metadata": {},
   "outputs": [],
   "source": [
    "try:\n",
    "    #Create Slice\n",
    "    slice = fablib.new_slice(name=slice_name)\n",
    "\n",
    "    # Node1\n",
    "    node1 = slice.add_node(name=nodes_name[0], site=sites[0])\n",
    "    node1.set_capacities(cores=cores, ram=ram, disk=disk)\n",
    "    node1.set_image(image)\n",
    "    \n",
    "    #Submit Slice Request\n",
    "    slice.submit()\n",
    "except Exception as e:\n",
    "    print(f\"Slice Fail: {e}\")"
   ]
  },
  {
   "cell_type": "markdown",
   "id": "e7afb597-4474-4295-ac11-9d1dc2e0bf7f",
   "metadata": {
    "tags": []
   },
   "source": [
    "### Get slice"
   ]
  },
  {
   "cell_type": "code",
   "execution_count": null,
   "id": "e3dba44e-475b-4354-9faa-7ae0750e22d0",
   "metadata": {},
   "outputs": [],
   "source": [
    "try:\n",
    "    slice = fablib.get_slice(name=slice_name)\n",
    "    print(f\"{slice}\")\n",
    "except Exception as e:\n",
    "    print(f\"Exception: {e}\")"
   ]
  },
  {
   "cell_type": "markdown",
   "id": "b82923e8-d578-4dd8-a963-f663bfa399e8",
   "metadata": {
    "tags": []
   },
   "source": [
    "### Get all nodes"
   ]
  },
  {
   "cell_type": "code",
   "execution_count": null,
   "id": "3a3917ba-d36a-45b0-a1ca-5be06885308e",
   "metadata": {},
   "outputs": [],
   "source": [
    "try:\n",
    "    slice = fablib.get_slice(name=slice_name)\n",
    "\n",
    "    print(f\"{slice.list_nodes()}\")\n",
    "except Exception as e:\n",
    "    print(f\"Exception: {e}\")"
   ]
  },
  {
   "cell_type": "code",
   "execution_count": null,
   "id": "c3790764-670f-4e63-bb55-b2a6e2efa982",
   "metadata": {},
   "outputs": [],
   "source": [
    "try:\n",
    "    slice = fablib.get_slice(name=slice_name)\n",
    "    for node in slice.get_nodes():\n",
    "        print(f\"{node}\")\n",
    "except Exception as e:\n",
    "    print(f\"Exception: {e}\")"
   ]
  },
  {
   "cell_type": "markdown",
   "id": "b3a8f39d-c70a-43ad-90ca-eebf3083d6c8",
   "metadata": {},
   "source": [
    "### Install dependencies"
   ]
  },
  {
   "cell_type": "code",
   "execution_count": null,
   "id": "e645ee2e-2dc3-4f78-b00f-cd9a5649c62a",
   "metadata": {},
   "outputs": [],
   "source": [
    "%%capture\n",
    "try:\n",
    "    slice.get_nodes()[0].execute(f'''\n",
    "        echo \"deb [arch=amd64 trusted=yes] https://nfd-nightly-apt.ndn.today/ubuntu focal main\" | sudo tee /etc/apt/sources.list.d/nfd-nightly.list\n",
    "        sudo DEBIAN_FRONTEND=noninteractive apt update\n",
    "        sudo DEBIAN_FRONTEND=noninteractive apt install -y libndn-cxx-dev nfd ndnping ndnpeek ndn-dissect ndnchunks ndnsec\n",
    "        sudo DEBIAN_FRONTEND=noninteractive apt full-upgrade -y\n",
    "        sudo reboot\n",
    "    ''')\n",
    "    slice.wait_ssh(progress=True)\n",
    "except Exception as e:\n",
    "    print(f\"Exception: {e}\")"
   ]
  },
  {
   "cell_type": "code",
   "execution_count": null,
   "id": "367a8f0c-cfa0-4dd4-9461-2fa54a87a348",
   "metadata": {
    "tags": []
   },
   "outputs": [],
   "source": [
    "%%capture\n",
    "try:\n",
    "    slice.get_nodes()[0].execute(f'''\n",
    "        curl -O -L \"https://golang.org/dl/go{go_version}.linux-amd64.tar.gz\"\n",
    "        sudo tar -xf \"go{go_version}.linux-amd64.tar.gz\" -C /usr/local\n",
    "        rm \"go{go_version}.linux-amd64.tar.gz\"\n",
    "        echo \"export GOPATH=$HOME/go\" >> ~/.bashrc\n",
    "        echo \"export PATH=$PATH:/usr/local/go/bin:$GOPATH/bin\" >> ~/.bashrc\n",
    "        source ~/.bashrc\n",
    "    ''')\n",
    "except Exception as e:\n",
    "    print(f\"Exception: {e}\")"
   ]
  },
  {
   "cell_type": "code",
   "execution_count": null,
   "id": "0e994906-017e-45e5-a35f-00ff368c7e32",
   "metadata": {},
   "outputs": [],
   "source": [
    "try:\n",
    "    slice.get_nodes()[0].execute(f'''\n",
    "        nfd-stop\n",
    "    ''')\n",
    "    slice.get_nodes()[0].upload_file('./nfd.conf', 'nfd.conf')\n",
    "    slice.get_nodes()[0].execute(f'''\n",
    "        chmod 644 nfd.conf\n",
    "        sudo mv nfd.conf /etc/ndn/nfd.conf\n",
    "        nfd-start\n",
    "        ndnsec key-gen /ndn/fabric/node1 | ndnsec cert-install -\n",
    "    ''')\n",
    "except Exception as e:\n",
    "    print(f\"Exception: {e}\")"
   ]
  },
  {
   "cell_type": "markdown",
   "id": "7e3c3519-ecd4-4466-9c88-b8c220d36207",
   "metadata": {},
   "source": [
    "## Renew slice"
   ]
  },
  {
   "cell_type": "code",
   "execution_count": null,
   "id": "71e9a1dd-02eb-4028-b9fc-0b718e7e214e",
   "metadata": {},
   "outputs": [],
   "source": [
    "from datetime import datetime\n",
    "from datetime import timezone\n",
    "from datetime import timedelta\n",
    "\n",
    "days_more = 5\n",
    "end_date = (datetime.now(timezone.utc) + timedelta(days=days_more)).strftime(\"%Y-%m-%d %H:%M:%S %z\")\n",
    "\n",
    "try:\n",
    "    slice = fablib.get_slice(name=slice_name)\n",
    "    slice.renew(end_date)\n",
    "except Exception as e:\n",
    "    print(f\"Exception: {e}\")"
   ]
  },
  {
   "cell_type": "markdown",
   "id": "456c4f81-482f-4eb7-9cde-16cc587dfab0",
   "metadata": {
    "tags": []
   },
   "source": [
    "## Delete slice"
   ]
  },
  {
   "cell_type": "code",
   "execution_count": null,
   "id": "a4d52e8d-3ab0-4530-862f-c76e8be0e8c1",
   "metadata": {},
   "outputs": [],
   "source": [
    "try:\n",
    "    slice = fablib.delete_slice(slice_name)\n",
    "except Exception as e:\n",
    "    print(f\"Exception: {e}\")"
   ]
  }
 ],
 "metadata": {
  "kernelspec": {
   "display_name": "Python 3 (ipykernel)",
   "language": "python",
   "name": "python3"
  },
  "language_info": {
   "codemirror_mode": {
    "name": "ipython",
    "version": 3
   },
   "file_extension": ".py",
   "mimetype": "text/x-python",
   "name": "python",
   "nbconvert_exporter": "python",
   "pygments_lexer": "ipython3",
   "version": "3.9.7"
  }
 },
 "nbformat": 4,
 "nbformat_minor": 5
}
