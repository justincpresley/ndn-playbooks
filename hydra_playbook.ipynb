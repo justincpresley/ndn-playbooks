{
 "cells": [
  {
   "cell_type": "markdown",
   "id": "ac69f3a2-d892-44c8-bd69-c804a4405f5a",
   "metadata": {
    "tags": []
   },
   "source": [
    "# This notebook shows how to Hydra layer2 connection works \n",
    "\n",
    "## Configure the Fabric Environment"
   ]
  },
  {
   "cell_type": "markdown",
   "id": "272db8c3-4539-460f-b0b1-b2b217879ae3",
   "metadata": {},
   "source": [
    "### Import FABRIC API"
   ]
  },
  {
   "cell_type": "code",
   "execution_count": null,
   "id": "c679db21-9267-4566-8660-e48ab31b0c1f",
   "metadata": {},
   "outputs": [],
   "source": [
    "from fabrictestbed_extensions.fablib.fablib import FablibManager as fablib_manager\n",
    "\n",
    "try:\n",
    "    fablib = fablib_manager()\n",
    "                         \n",
    "    fablib.show_config()\n",
    "except Exception as e:\n",
    "    print(f\"Exception: {e}\")"
   ]
  },
  {
   "cell_type": "markdown",
   "id": "62273bd9-3b04-4cce-b28f-b448a67dccf0",
   "metadata": {},
   "source": [
    "## Step 3 (Optional): Query for Available Tesbed Resources and Settings"
   ]
  },
  {
   "cell_type": "code",
   "execution_count": null,
   "id": "7d1abb31-c4eb-4a83-af09-79c2902c9673",
   "metadata": {},
   "outputs": [],
   "source": [
    "try:\n",
    "    print(f\"{fablib.list_sites()}\")\n",
    "except Exception as e:\n",
    "    print(f\"Exception: {e}\")"
   ]
  },
  {
   "cell_type": "markdown",
   "id": "b8efed51-ec28-4a46-8373-c927bba77ea2",
   "metadata": {
    "tags": []
   },
   "source": [
    "## Create Slice\n",
    "In Release 1.0, user is expected to assign the IP addresses manually. Please use the example comands indicated below:"
   ]
  },
  {
   "cell_type": "markdown",
   "id": "6b7f116b-ea26-4642-a91d-866eb94c53e5",
   "metadata": {
    "tags": []
   },
   "source": [
    "## Configure Slice Parameters\n",
    "\n"
   ]
  },
  {
   "cell_type": "code",
   "execution_count": null,
   "id": "1b17d502-79e7-4d5d-9ac2-9fa7fe7788f0",
   "metadata": {},
   "outputs": [],
   "source": [
    "slice_name = 'Auto-Hydra_L2'\n",
    "site1 = 'UTAH'\n",
    "site2 = 'STAR'\n",
    "node1_name = 'node1'\n",
    "node2_name = 'node2'\n",
    "node3_name = 'node3'\n",
    "node4_name = 'node4'\n",
    "node5_name = 'node5'\n",
    "network_name=['net1','net2','net3','net4','net5','net6','net7','net8','net9','net10']\n",
    "node1_nic_name = ['nic1_1', 'nic1_2','nic1_3', 'nic1_4']\n",
    "node2_nic_name = ['nic2_1','nic2_2', 'nic2_3', 'nic2_4' ]\n",
    "node3_nic_name = ['nic3_1','nic3_2', 'nic3_3', 'nic3_4' ]\n",
    "node4_nic_name = ['nic4_1','nic4_2', 'nic4_3', 'nic4_4' ]\n",
    "node5_nic_name = ['nic5_1','nic5_2', 'nic5_3', 'nic5_4' ]\n",
    "image = 'default_ubuntu_20'\n",
    "cores = 2\n",
    "ram = 8\n",
    "disk = 20"
   ]
  },
  {
   "cell_type": "code",
   "execution_count": null,
   "id": "322cb213-c61b-497e-a38f-afe8424e73db",
   "metadata": {},
   "outputs": [],
   "source": [
    "try:\n",
    "    #Create Slice\n",
    "    slice = fablib.new_slice(name=slice_name)\n",
    "\n",
    "    # Node1\n",
    "    node1 = slice.add_node(name=node1_name, site=site1)\n",
    "    node1.set_capacities(cores=cores, ram=ram, disk=disk)\n",
    "    node1.set_image(image)\n",
    "    iface1_1 = node1.add_component(model='NIC_Basic', name=node1_nic_name[0]).get_interfaces()[0]\n",
    "    iface1_2 = node1.add_component(model='NIC_Basic', name=node1_nic_name[1]).get_interfaces()[0]\n",
    "    iface1_3 = node1.add_component(model='NIC_Basic', name=node1_nic_name[2]).get_interfaces()[0]\n",
    "    iface1_4 = node1.add_component(model='NIC_Basic', name=node1_nic_name[3]).get_interfaces()[0]\n",
    "    # Node2\n",
    "    node2 = slice.add_node(name=node2_name, site=site1)\n",
    "    node2.set_capacities(cores=cores, ram=ram, disk=disk)\n",
    "    node2.set_image(image)\n",
    "    iface2_1 = node2.add_component(model='NIC_Basic', name=node2_nic_name[0]).get_interfaces()[0]\n",
    "    iface2_2 = node2.add_component(model='NIC_Basic', name=node2_nic_name[1]).get_interfaces()[0]\n",
    "    iface2_3 = node2.add_component(model='NIC_Basic', name=node2_nic_name[2]).get_interfaces()[0]\n",
    "    iface2_4 = node2.add_component(model='NIC_Basic', name=node2_nic_name[3]).get_interfaces()[0]\n",
    "    \n",
    "    # Node3\n",
    "    node3 = slice.add_node(name=node3_name, site=site1)\n",
    "    node3.set_capacities(cores=cores, ram=ram, disk=disk)\n",
    "    node3.set_image(image)\n",
    "    iface3_1 = node3.add_component(model='NIC_Basic', name=node3_nic_name[0]).get_interfaces()[0]\n",
    "    iface3_2 = node3.add_component(model='NIC_Basic', name=node3_nic_name[1]).get_interfaces()[0]\n",
    "    iface3_3 = node3.add_component(model='NIC_Basic', name=node3_nic_name[2]).get_interfaces()[0]\n",
    "    iface3_4 = node3.add_component(model='NIC_Basic', name=node3_nic_name[3]).get_interfaces()[0]\n",
    "    \n",
    "    # Node4\n",
    "    node4 = slice.add_node(name=node4_name, site=site2)\n",
    "    node4.set_capacities(cores=cores, ram=ram, disk=disk)\n",
    "    node4.set_image(image)\n",
    "    iface4_1 = node4.add_component(model='NIC_Basic', name=node4_nic_name[0]).get_interfaces()[0]\n",
    "    iface4_2 = node4.add_component(model='NIC_Basic', name=node4_nic_name[1]).get_interfaces()[0]\n",
    "    iface4_3 = node4.add_component(model='NIC_Basic', name=node4_nic_name[2]).get_interfaces()[0]\n",
    "    iface4_4 = node4.add_component(model='NIC_Basic', name=node4_nic_name[3]).get_interfaces()[0]\n",
    "    \n",
    "    # Node5\n",
    "    node5 = slice.add_node(name=node5_name, site=site2)\n",
    "    node5.set_capacities(cores=cores, ram=ram, disk=disk)\n",
    "    node5.set_image(image)\n",
    "    iface5_1 = node5.add_component(model='NIC_Basic', name=node5_nic_name[0]).get_interfaces()[0]\n",
    "    iface5_2 = node5.add_component(model='NIC_Basic', name=node5_nic_name[1]).get_interfaces()[0]\n",
    "    iface5_3 = node5.add_component(model='NIC_Basic', name=node5_nic_name[2]).get_interfaces()[0]\n",
    "    iface5_4 = node5.add_component(model='NIC_Basic', name=node5_nic_name[3]).get_interfaces()[0]\n",
    "    \n",
    "    # Networks\n",
    "    client_nets = []\n",
    "    client_nets.append(slice.add_l2network(name=network_name[0], interfaces=[iface1_1, iface2_1]))\n",
    "    client_nets.append(slice.add_l2network(name=network_name[1], interfaces=[iface1_2, iface3_1]))\n",
    "    client_nets.append(slice.add_l2network(name=network_name[2], interfaces=[iface1_3, iface4_1]))\n",
    "    client_nets.append(slice.add_l2network(name=network_name[3], interfaces=[iface1_4, iface5_1]))\n",
    "    \n",
    "    repo_nets = []\n",
    "    repo_nets.append(slice.add_l2network(name=network_name[4], interfaces=[iface2_2, iface3_2]))\n",
    "    repo_nets.append(slice.add_l2network(name=network_name[5], interfaces=[iface2_3, iface4_2]))\n",
    "    repo_nets.append(slice.add_l2network(name=network_name[6], interfaces=[iface2_4, iface5_2]))\n",
    "    repo_nets.append(slice.add_l2network(name=network_name[7], interfaces=[iface3_3, iface4_3]))\n",
    "    repo_nets.append(slice.add_l2network(name=network_name[8], interfaces=[iface3_4, iface5_3]))\n",
    "    repo_nets.append(slice.add_l2network(name=network_name[9], interfaces=[iface4_4, iface5_4]))\n",
    "    \n",
    "    #Submit Slice Request\n",
    "    slice.submit()\n",
    "except Exception as e:\n",
    "    print(f\"Slice Fail: {e}\")"
   ]
  },
  {
   "cell_type": "markdown",
   "id": "1896d787-0ab1-4f66-9c68-0527d3402b93",
   "metadata": {
    "tags": []
   },
   "source": [
    "## Get the Slice"
   ]
  },
  {
   "cell_type": "code",
   "execution_count": null,
   "id": "59d92c29-c6c2-4574-98df-f67923a62b08",
   "metadata": {
    "tags": []
   },
   "outputs": [],
   "source": [
    "try:\n",
    "    slice = fablib.get_slice(name=slice_name)\n",
    "    print(f\"{slice}\")\n",
    "except Exception as e:\n",
    "    print(f\"Exception: {e}\")"
   ]
  },
  {
   "cell_type": "code",
   "execution_count": null,
   "id": "51e4bd71-ad2f-4ff5-8db9-e8cdc231680c",
   "metadata": {},
   "outputs": [],
   "source": [
    "try:\n",
    "    slice = fablib.get_slice(name=slice_name)\n",
    "\n",
    "    print(f\"{slice.list_nodes()}\")\n",
    "except Exception as e:\n",
    "    print(f\"Exception: {e}\")"
   ]
  },
  {
   "cell_type": "code",
   "execution_count": null,
   "id": "b9d323af-5b08-450a-8162-b5ca3849c6bc",
   "metadata": {},
   "outputs": [],
   "source": [
    "%%capture \n",
    "try:\n",
    "    for node in slice.get_nodes():\n",
    "        for interface in node.get_interfaces():\n",
    "            node.execute(f'sudo apt-get install -y net-tools && sudo ifconfig {interface.get_os_interface()} up')\n",
    "except Exception as e:\n",
    "        print(f\"Exception: {e}\")"
   ]
  },
  {
   "cell_type": "markdown",
   "id": "7a9b4141-69ba-4a83-ac6f-10e68f3375c4",
   "metadata": {},
   "source": [
    "### Install the NDN packages on each node"
   ]
  },
  {
   "cell_type": "code",
   "execution_count": null,
   "id": "9ddb345f-4044-4e00-82fe-97e116e94d26",
   "metadata": {},
   "outputs": [],
   "source": [
    "%%capture\n",
    "try:\n",
    "    for node in slice.get_nodes():\n",
    "        node.execute(f'''\n",
    "            echo \"deb [arch=amd64 trusted=yes] https://nfd-nightly-apt.ndn.today/ubuntu focal main\" | sudo tee /etc/apt/sources.list.d/nfd-nightly.list\n",
    "            sudo DEBIAN_FRONTEND=noninteractive apt update\n",
    "            sudo DEBIAN_FRONTEND=noninteractive apt install -y python3-pip libndn-cxx-dev nfd ndnping ndnpeek ndn-dissect ndnchunks ndnsec\n",
    "            sudo DEBIAN_FRONTEND=noninteractive apt full-upgrade -y\n",
    "            sudo pip3 install python-ndn ndn-storage ndn-svs ndn-hydra\n",
    "            sudo reboot\n",
    "        ''')\n",
    "    slice.wait_ssh(progress=True)\n",
    "except Exception as e:\n",
    "    print(f\"Exception: {e}\")"
   ]
  },
  {
   "cell_type": "code",
   "execution_count": null,
   "id": "ca9a447e-7c36-4dd4-8df5-31fc49eba54a",
   "metadata": {},
   "outputs": [],
   "source": [
    "%%capture\n",
    "try:\n",
    "    for node in slice.get_nodes():\n",
    "        for interface in node.get_interfaces():\n",
    "            node.execute(f'sudo apt-get install -y net-tools && sudo ifconfig {interface.get_os_interface()} up' )\n",
    "        node.execute(f'nfd-start')\n",
    "except Exception as e:\n",
    "    print(f\"Exception: {e}\")"
   ]
  },
  {
   "cell_type": "markdown",
   "id": "0ec5289c-2cd8-4eae-8366-eb9a26c60f64",
   "metadata": {},
   "source": [
    "### Setup Routes"
   ]
  },
  {
   "cell_type": "code",
   "execution_count": null,
   "id": "2a94ad61-c142-4000-80b8-f840c16d49f4",
   "metadata": {},
   "outputs": [],
   "source": [
    "try:\n",
    "    for node in slice.get_nodes():\n",
    "        node.execute(f'''\n",
    "            nfdc strategy set /hydra/group /localhost/nfd/strategy/multicast\n",
    "            ndnsec key-gen /hydra/{node.get_name()} | ndnsec cert-install -\n",
    "        ''')\n",
    "except Exception as e:\n",
    "    print(f\"Exception: {e}\")"
   ]
  },
  {
   "cell_type": "code",
   "execution_count": null,
   "id": "143de7ee-4bbc-4b4b-bf75-2a0575b7f2cc",
   "metadata": {},
   "outputs": [],
   "source": [
    "try:\n",
    "    first = True\n",
    "    for net in client_nets:\n",
    "        ifs = net.get_interfaces()\n",
    "        ifs[1].get_node().execute(f'''\n",
    "            nfdc face create remote ether://[{ifs[0].get_mac()}] local dev://{ifs[1].get_os_interface()}\n",
    "            nfdc route add /client ether://[{ifs[0].get_mac()}]\n",
    "        ''')\n",
    "        if first:\n",
    "            first = False\n",
    "            ifs[0].get_node().execute(f'''\n",
    "                nfdc face create remote ether://[{ifs[1].get_mac()}] local dev://{ifs[0].get_os_interface()}\n",
    "                nfdc route add / ether://[{ifs[1].get_mac()}]\n",
    "            ''')\n",
    "except Exception as e:\n",
    "    print(f\"Exception: {e}\")"
   ]
  },
  {
   "cell_type": "code",
   "execution_count": null,
   "id": "421ec14a-df80-47df-bb7c-877f26308b14",
   "metadata": {
    "scrolled": true,
    "tags": []
   },
   "outputs": [],
   "source": [
    "try:\n",
    "    for net in repo_nets:\n",
    "        ifs = net.get_interfaces()\n",
    "        maca = ifs[0].get_mac()\n",
    "        nodea = ifs[0].get_node().get_name()\n",
    "        macb = ifs[1].get_mac()\n",
    "        nodeb = ifs[1].get_node().get_name()\n",
    "        ifs[0].get_node().execute(f'''\n",
    "            nfdc face create remote ether://[{macb}] local dev://{ifs[0].get_os_interface()}\n",
    "            nfdc route add /hydra/group ether://[{macb}]\n",
    "            nfdc route add /hydra/node/{nodeb} ether://[{macb}]\n",
    "            nfdc route add /{nodeb} ether://[{macb}]\n",
    "        ''')\n",
    "        ifs[1].get_node().execute(f'''\n",
    "            nfdc face create remote ether://[{maca}] local dev://{ifs[1].get_os_interface()}\n",
    "            nfdc route add /hydra/group ether://[{maca}]\n",
    "            nfdc route add /hydra/node/{nodea} ether://[{maca}]\n",
    "            nfdc route add /{nodea} ether://[{maca}]\n",
    "        ''')        \n",
    "except Exception as e:\n",
    "    print(f\"Exception: {e}\")"
   ]
  },
  {
   "cell_type": "markdown",
   "id": "7a742806-bf6a-4ddf-b8b7-4aa02eea3f57",
   "metadata": {},
   "source": [
    "## Renew Slice"
   ]
  },
  {
   "cell_type": "code",
   "execution_count": null,
   "id": "01a21494-80e9-4b20-a644-b022e75f8741",
   "metadata": {},
   "outputs": [],
   "source": [
    "from datetime import datetime\n",
    "from datetime import timezone\n",
    "from datetime import timedelta\n",
    "\n",
    "#Set end host to now plus 14 day\n",
    "end_date = (datetime.now(timezone.utc) + timedelta(days=14)).strftime(\"%Y-%m-%d %H:%M:%S %z\")\n",
    "\n",
    "try:\n",
    "    slice = fablib.get_slice(name=slice_name)\n",
    "\n",
    "    slice.renew(end_date)\n",
    "except Exception as e:\n",
    "    print(f\"Exception: {e}\")"
   ]
  },
  {
   "cell_type": "markdown",
   "id": "0947928d-f7df-4743-9e8a-da92a75ccfe2",
   "metadata": {},
   "source": [
    "## Delete Slice"
   ]
  },
  {
   "cell_type": "code",
   "execution_count": null,
   "id": "b7e9f2b9-40ba-4868-a88d-e1e3f8a0a5aa",
   "metadata": {},
   "outputs": [],
   "source": [
    "try:\n",
    "    slice = fablib.get_slice(name=slice_name)\n",
    "    slice.delete()\n",
    "except Exception as e:\n",
    "    print(f\"Fail: {e}\")"
   ]
  }
 ],
 "metadata": {
  "kernelspec": {
   "display_name": "Python 3 (ipykernel)",
   "language": "python",
   "name": "python3"
  },
  "language_info": {
   "codemirror_mode": {
    "name": "ipython",
    "version": 3
   },
   "file_extension": ".py",
   "mimetype": "text/x-python",
   "name": "python",
   "nbconvert_exporter": "python",
   "pygments_lexer": "ipython3",
   "version": "3.9.7"
  }
 },
 "nbformat": 4,
 "nbformat_minor": 5
}
